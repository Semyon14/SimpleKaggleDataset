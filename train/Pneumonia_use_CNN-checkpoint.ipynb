{
 "cells": [
  {
   "cell_type": "code",
   "execution_count": 40,
   "id": "2c6b9a42",
   "metadata": {},
   "outputs": [],
   "source": [
    "from tensorflow.keras.datasets import mnist, cifar10\n",
    "from tensorflow.keras.models import Sequential, Model \n",
    "# Подключаем класс Dense - полносвязный слой, и Flatten - данные выстраиваем в линию, одномерные\n",
    "# Conv2D - свёрточный слой, Input - для подачи входной размерности\n",
    "# MaxPooling1D, MaxPooling2D, AveragePooling2D - пулинговые слои для уменьшения размерности\n",
    "from tensorflow.keras.layers import AveragePooling2D, MaxPooling1D, MaxPooling2D \n",
    "from tensorflow.keras.layers import Dense, Flatten, Conv2D, Input\n",
    "from tensorflow.keras.applications import VGG16 # предобученная нейросеть \n",
    "# импортируем слои регуляризации Dropout, BatchNormalization для борьбы с переобучением\n",
    "from tensorflow.keras.layers import Dropout, BatchNormalization\n",
    "from tensorflow.keras.optimizers import Adam # Подключаем оптимизатор Adam\n",
    "from tensorflow.keras.preprocessing.image import ImageDataGenerator # для создания аугментированных изображениями\n",
    "from tensorflow.keras import utils #Утилиты для to_categorical\n",
    "# from tensorflow.keras.preprocessing import image \n",
    "#Для отрисовки изображения\n",
    "from sklearn.metrics import confusion_matrix # для построения матрицы ошибок\n",
    "from sklearn.utils import resample #для перемешивания выборок\n",
    "from sklearn.preprocessing import LabelBinarizer # для кодирования в бинарные метки по классам\n",
    "from sklearn.metrics import classification_report # возвращает точность, полноту, F-меру\n",
    "from sklearn.model_selection import train_test_split # функция разделения на обучающую и проверочную/тестовую выборку\n",
    "import os #для вызова прямо в среде программирования команд операционной оболочки\n",
    "import os.path # чтобы можно было добавлять цифры (переменные) в путь\n",
    "from imutils import paths # для загрузки картинок из файлов\n",
    "import glob # для получения списка имён файлов вместе с путём к ним\n",
    "import zipfile # для работы с архивами zip\n",
    "import io # для работы с архивами, input - output\n",
    "import numpy as np # Подключаем библиотеку numpy\n",
    "# import pylab # Модуль для построения графиков\n",
    "import pandas as pd # Библиотека pandas\n",
    "# from mpl_toolkits.mplot3d import Axes3D # Модуль для трехмерной графики\n",
    "import matplotlib.pyplot as plt #Отрисовка изображений\n",
    "import seaborn as sns # seaborn, надстройка визуализации над matplotlib\n",
    "from PIL import Image #Отрисовка изображений\n",
    "import cv2 # для загрузки и качественной обработки картинок\n",
    "import random #Для генерации случайных выборок из датасета\n",
    "import gc # для очистки памяти от лишних данных\n",
    "%matplotlib inline\n"
   ]
  },
  {
   "cell_type": "code",
   "execution_count": null,
   "id": "831a7b21",
   "metadata": {},
   "outputs": [],
   "source": [
    "z = zipfile.ZipFile(\"C:\\\\Users\\\\User\\\\OneDrive\\\\Рабочий стол\\\\archive (5).zip\")\n",
    "z.extractall()\n"
   ]
  },
  {
   "cell_type": "code",
   "execution_count": null,
   "id": "f9946630",
   "metadata": {},
   "outputs": [],
   "source": [
    "z.namelist()"
   ]
  }
 ],
 "metadata": {
  "kernelspec": {
   "display_name": "Python 3 (ipykernel)",
   "language": "python",
   "name": "python3"
  },
  "language_info": {
   "codemirror_mode": {
    "name": "ipython",
    "version": 3
   },
   "file_extension": ".py",
   "mimetype": "text/x-python",
   "name": "python",
   "nbconvert_exporter": "python",
   "pygments_lexer": "ipython3",
   "version": "3.9.5"
  }
 },
 "nbformat": 4,
 "nbformat_minor": 5
}
